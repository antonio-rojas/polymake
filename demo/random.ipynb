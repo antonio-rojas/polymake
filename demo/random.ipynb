{
 "cells": [
  {
   "attachments": {},
   "cell_type": "markdown",
   "metadata": {},
   "source": [
    "# Random Constructions\n",
    "\n",
    "## Random points on the unit sphere\n",
    "\n",
    "The easiest way to randomly construct a polytope is by sampling points on the unit sphere.  The following chooses 100 points on the units sphere in 3-space.\n",
    "\n",
    "    \n"
   ]
  },
  {
   "cell_type": "code",
   "execution_count": null,
   "metadata": {},
   "outputs": [
    {
     "data": {
      "text/plain": [
       "true\n",
       "\n"
      ]
     },
     "execution_count": 1,
     "metadata": {},
     "output_type": "execute_result"
    }
   ],
   "source": [
    "$p1=rand_sphere(3,100);\n",
    "print $p1->SIMPLICIAL;"
   ]
  },
  {
   "attachments": {},
   "cell_type": "markdown",
   "metadata": {},
   "source": [
    "With probability one such polytopes are simplicial.\n",
    "\n",
    "## Random polytopes with are neither simplicial nor simple\n",
    "\n",
    "    \n"
   ]
  },
  {
   "cell_type": "code",
   "execution_count": null,
   "metadata": {},
   "outputs": [
    {
     "data": {
      "text/plain": [
       "false false\n",
       "30 166 264 128\n",
       "\n"
      ]
     },
     "execution_count": 2,
     "metadata": {},
     "output_type": "execute_result"
    }
   ],
   "source": [
    "($d,$m,$n) = (4,50,30);\n",
    "$p1=rand_sphere($d,$m);\n",
    "$p2=polarize($p1);\n",
    "$p3=new Polytope(POINTS=>rand_vert($p2->VERTICES,$n));\n",
    "print $p3->SIMPLICIAL, \" \", $p3->SIMPLE, \"\\n\", $p3->F_VECTOR;"
   ]
  }
 ],
 "metadata": {
  "kernelspec": {
   "display_name": "polymake",
   "language": "polymake",
   "name": "polymake"
  },
  "language_info": {
   "codemirror_mode": "perl",
   "file_extension": ".pm",
   "mimetype": "text/x-polymake",
   "name": "polymake"
  }
 },
 "nbformat": 4,
 "nbformat_minor": 2
}